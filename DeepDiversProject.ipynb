{
  "nbformat": 4,
  "nbformat_minor": 0,
  "metadata": {
    "colab": {
      "name": "DeepDiversProject.ipynb",
      "provenance": [],
      "collapsed_sections": [],
      "toc_visible": true,
      "include_colab_link": true
    },
    "kernelspec": {
      "name": "python3",
      "display_name": "Python 3"
    },
    "language_info": {
      "name": "python"
    }
  },
  "cells": [
    {
      "cell_type": "markdown",
      "metadata": {
        "id": "view-in-github",
        "colab_type": "text"
      },
      "source": [
        "<a href=\"https://colab.research.google.com/github/imiolczy/additionalDataSourcesTest/blob/main/DeepDiversProject.ipynb\" target=\"_parent\"><img src=\"https://colab.research.google.com/assets/colab-badge.svg\" alt=\"Open In Colab\"/></a>"
      ]
    },
    {
      "cell_type": "markdown",
      "metadata": {
        "id": "ldMStifOF6iW"
      },
      "source": [
        "# Big Data - The Deep Divers"
      ]
    },
    {
      "cell_type": "markdown",
      "metadata": {
        "id": "U033FwiMHzkA"
      },
      "source": [
        "The follwoing project is provided by\n",
        "\n",
        "*   Simon Kopold - XXXXXX\n",
        "*   Jurica Pejic - 323024\n",
        "*   Tobias Imiolczyk - 316030\n",
        "\n",
        "and deals with an data-driven pricing strategy for a fuel station in the context of 4P. \n",
        "\n"
      ]
    },
    {
      "cell_type": "markdown",
      "metadata": {
        "id": "aLycL_QmMaQM"
      },
      "source": [
        "Offene Punkte: \n",
        "\n",
        "*   Welcher Zeitraum für Öl und Wechselkurs Daten? --> Analysezeitraum: 3Q 2014 (01.07.2014) bis 1Q 2021 (31.03.2021)\n",
        "*   Wie genau sollen Basisdatensätze beschrieben werden?\n",
        "\n",
        "*   Theorie Grundlage zu 4P? --> Ja aber ohne große Quellen\n",
        "*   Seit 2021: Zustäzliche CO2 Steuer auf Sprit --> Theorie erwünscht? (kann ich aus meiner Bachelorthesis ziehen) --> gut\n",
        "\n",
        "*   Datenstruktur über github anlegen und downloadbar machen (Simon)\n",
        "*   Platzhalter\n",
        "\n",
        "\n"
      ]
    },
    {
      "cell_type": "markdown",
      "metadata": {
        "id": "icsYL9G0tN36"
      },
      "source": [
        "# Theoretical Background\n"
      ]
    },
    {
      "cell_type": "markdown",
      "metadata": {
        "id": "85ali-Nyugmk"
      },
      "source": [
        "Before we perform a data-driven analysis we will focus on some theoretical background to form a basis for our analysis.\n",
        "\n",
        "\n",
        "**The 4P's**\n",
        "\n",
        "... siehe unten\n",
        "\n",
        "\n",
        "**New CO2 tax in Germany**\n",
        "\n",
        "Since 2021, a new law came into force in Germany, which includes an additional tax on CO2 emissions, resulting in an increase in the price of fuel. 25€ will be charged per ton of CO2. Until 2025 this will be increased up to 55€ per ton.\n",
        "In our analysis we want to find the proof, that the new law has infected the fuel prices. Addtionally we will use future increase to optimize our prediciton model. \n"
      ]
    },
    {
      "cell_type": "markdown",
      "metadata": {
        "id": "jzRasaocGEdR"
      },
      "source": [
        "# Data Infrastructure"
      ]
    },
    {
      "cell_type": "markdown",
      "metadata": {
        "id": "9mthlTdbLOar"
      },
      "source": [
        "As a basis, data from various sources is collected. In case of data infrastructur we provide two ways. If you want to use this notebook on a regular basis we recommend to download the data structure and store it within your personal Google Drive. With this approche you can mount your Google Drive dircetly in this notebook and you don't have the download the data everytime you start this notebook.\n"
      ]
    },
    {
      "cell_type": "code",
      "metadata": {
        "id": "jswsnOZT4CM4"
      },
      "source": [
        "from google.colab import drive # import the google colab library\n",
        "drive.mount('/content/drive') # mount your google drive files under /content/drive\n",
        "\n",
        "#!ls /content/drive/MyDrive #shows overview of your google drive\n",
        "\n",
        "#%cd /content/drive/MyDrive/DataDeepDivers #define folder as working directory\n",
        "\n",
        "%cd content\n",
        "%cd drive\n",
        "%cd MyDrive\n",
        "%cd DataDeepDivers\n",
        "\n",
        "!ls  #shows overview of files in working directory"
      ],
      "execution_count": null,
      "outputs": []
    },
    {
      "cell_type": "markdown",
      "metadata": {
        "id": "WJF3SK0smTQK"
      },
      "source": [
        "For one-time usage we recommend to download the data by the following script. This takes up to 45 minutes. Manuell Download and the import of the data via Google Drive is not compatible!"
      ]
    },
    {
      "cell_type": "code",
      "metadata": {
        "id": "WtvzuCdg1mo-",
        "colab": {
          "base_uri": "https://localhost:8080/"
        },
        "outputId": "e046555c-66f9-4fcb-c81c-a92838376a93"
      },
      "source": [
        "#%cd /content #change into content folder\n",
        "\n",
        "#!mkdir /content/drive/ #create\n",
        "#!mkdir /content/drive/MyDrive\n",
        "#!mkdir /content/drive/MyDrive/DataDeepDivers\n",
        "\n",
        "%cd /content/drive/MyDrive/DataDeepDivers #define folder as working directory\n",
        "\n",
        "#!git clone https://tankerkoenig@dev.azure.com/tankerkoenig/tankerkoenig-data/_git/tankerkoenig-data #data for stations and prices"
      ],
      "execution_count": null,
      "outputs": [
        {
          "output_type": "stream",
          "text": [
            "[Errno 2] No such file or directory: '/content/drive/MyDrive/DataDeepDivers #define folder as working directory'\n",
            "/content\n"
          ],
          "name": "stdout"
        }
      ]
    },
    {
      "cell_type": "markdown",
      "metadata": {
        "id": "OCMNZna-LkcN"
      },
      "source": [
        "# Description Base Data"
      ]
    },
    {
      "cell_type": "markdown",
      "metadata": {
        "id": "WVQb9GyVLvVl"
      },
      "source": [
        "Within the data collection of Tankerkönig, different data sets can be found. On the one hand, the \"Prices\" directory is listed, which logs the price changes of all gas stations in one CSV file per day.\n",
        "Fields, which are located in the CSV header, are among others...\n",
        "\n",
        "`date,station_uuid,diesel,e5,e10,dieselchange,e5change,e10change`\n",
        "\n",
        "with the following meaning:\n",
        "\n",
        "![Screenshot 2021-04-26 125225.png](data:image/png;base64,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)\n",
        "\n",
        "\n",
        "On the other hand, the directory \"Gas stations\" contains further files, which are exported daily into a directory stations/YEAR/MONTH/. Fields, which are in the head of these CSV files, are...\n",
        "\n",
        "`uuid,name,brand,street,house_number,post_code,city,latitude,longitude`\n",
        "\n",
        "with the following meaning:\n",
        "\n",
        "![image.png](data:image/png;base64,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)\n",
        "\n",
        "\n",
        "The individual CSV files can be matched using the `uuid` of the gas stations.\n",
        "\n"
      ]
    },
    {
      "cell_type": "markdown",
      "metadata": {
        "id": "sSN-v5V8Huk_"
      },
      "source": [
        "# Choice of Gas Station and competitors"
      ]
    },
    {
      "cell_type": "markdown",
      "metadata": {
        "id": "Vp0XvoA_Kvez"
      },
      "source": [
        "The goal of the project is to provide a data-driven pricing for a specific gas station in Germany. To make sure that the pricing strategy can include prices of competitors the gas station should be located in a more urban region, in our case in the region of Karlsruhe. We decided to choose a gas station at the Durlach Center next to the highway A5. This gas station will be called REAL in the following analysis. \n",
        "Because fuel is a homogenous consumable good with a competetiv market it is important to include the competitors in the vicinity. The following determines all competitors in the radius of 1.5 km based on the gps-data."
      ]
    },
    {
      "cell_type": "code",
      "metadata": {
        "id": "hLwVQje5KvEh",
        "colab": {
          "base_uri": "https://localhost:8080/",
          "height": 269
        },
        "outputId": "a699a7f0-01c9-4bf3-8496-e3312f4162af"
      },
      "source": [
        "from math import radians, cos, sin, asin, sqrt\n",
        "import numpy as np\n",
        "import pandas as pd\n",
        "\n",
        "#Function for the calcualtion of the distance between two gps points Source: https://stackoverflow.com/questions/4913349/haversine-formula-in-python-bearing-and-distance-between-two-gps-points\n",
        "def haversine(lon1, lat1, lon2, lat2):\n",
        "    \"\"\"\n",
        "    Calculate the great circle distance between two points \n",
        "    on the earth (specified in decimal degrees)\n",
        "    \"\"\"\n",
        "    # convert decimal degrees to radians \n",
        "    lon1, lat1, lon2, lat2 = map(radians, [lon1, lat1, lon2, lat2])\n",
        "\n",
        "    # haversine formula \n",
        "    dlon = lon2 - lon1 \n",
        "    dlat = lat2 - lat1 \n",
        "    a = sin(dlat/2)**2 + cos(lat1) * cos(lat2) * sin(dlon/2)**2\n",
        "    c = 2 * asin(sqrt(a)) \n",
        "    r = 6371 # Radius of earth in kilometers. Use 3956 for miles\n",
        "    return c * r\n",
        "\n",
        "%cd /content/drive/MyDrive/DataDeepDivers/tankerkoenig-data/stations/2021/01\n",
        "path = '2021-01-01-stations.csv' \n",
        "stations = pd.read_csv(path) \n",
        "\n",
        "stations['city'] = stations['city'].str.lower() #data set consists of different writing styles for the city column--> has to be unified\n",
        "\n",
        "stationsKA = stations[stations['city'] == \"karlsruhe\"] #subset of all gas stations in Karlsruhe\n",
        "stationsKA = pd.DataFrame(data=stationsKA)\n",
        "\n",
        "real = \"51d4b715-a095-1aa0-e100-80009459e03a\" #Uuid of the used gas station, will be called REAL in the following analysis\n",
        "\n",
        "radius = 1.5 #Defintion of the radius, that defines a gas station as relevant for competitor analysis\n",
        "n = 0\n",
        "uuid_close = []\n",
        "\n",
        "#Define GPS-Coordinates of REAL\n",
        "id_real = np.where(stations[\"uuid\"]==real)\n",
        "long_real = stations.loc[id_real, \"longitude\"]\n",
        "lat_real = stations.loc[id_real, \"latitude\"]\n",
        "\n",
        "#Loop through all stations and check if they are within the defined radius\n",
        "for i in range(len(stations)):  \n",
        "  if(haversine(long_real, lat_real,stations.loc[i, \"longitude\"],stations.loc[i,'latitude'])<=radius):\n",
        "    n = n + 1\n",
        "    uuid_close.append(stations.loc[i, \"uuid\"])\n",
        "    #print(stations.loc[i, \"name\"]+\" - \"+stations.loc[i, \"uuid\"]+\" - \"+stations.loc[i, \"street\"])\n",
        "\n",
        "n = n - 1 #Used gas stations does not count as competitor\n",
        "print('Number of competitors in a radius of '+str(radius)+' km: '+str(n))\n",
        "pat = '|'.join(uuid_close)\n",
        "\n",
        "i =0\n",
        "\n",
        "#Make a subset with all relevant gas stations\n",
        "for i in range(len(uuid_close)):\n",
        "    stations_close = stations[stations['uuid'].str.contains(pat)]\n",
        "\n",
        "stations_close.sample(len(stations_close))\n",
        "\n"
      ],
      "execution_count": null,
      "outputs": [
        {
          "output_type": "stream",
          "text": [
            "/content/drive/MyDrive/DataDeepDivers/tankerkoenig-data/stations/2021/01\n",
            "Number of competitors in a radius of 1.5 km: 5\n"
          ],
          "name": "stdout"
        },
        {
          "output_type": "execute_result",
          "data": {
            "text/html": [
              "<div>\n",
              "<style scoped>\n",
              "    .dataframe tbody tr th:only-of-type {\n",
              "        vertical-align: middle;\n",
              "    }\n",
              "\n",
              "    .dataframe tbody tr th {\n",
              "        vertical-align: top;\n",
              "    }\n",
              "\n",
              "    .dataframe thead th {\n",
              "        text-align: right;\n",
              "    }\n",
              "</style>\n",
              "<table border=\"1\" class=\"dataframe\">\n",
              "  <thead>\n",
              "    <tr style=\"text-align: right;\">\n",
              "      <th></th>\n",
              "      <th>uuid</th>\n",
              "      <th>name</th>\n",
              "      <th>brand</th>\n",
              "      <th>street</th>\n",
              "      <th>house_number</th>\n",
              "      <th>post_code</th>\n",
              "      <th>city</th>\n",
              "      <th>latitude</th>\n",
              "      <th>longitude</th>\n",
              "      <th>first_active</th>\n",
              "      <th>openingtimes_json</th>\n",
              "    </tr>\n",
              "  </thead>\n",
              "  <tbody>\n",
              "    <tr>\n",
              "      <th>6298</th>\n",
              "      <td>51d4b715-a095-1aa0-e100-80009459e03a</td>\n",
              "      <td>Supermarkt-Tankstelle am real,- Markt KARLSRUH...</td>\n",
              "      <td>Supermarkt-Tankstelle am real,- Markt</td>\n",
              "      <td>DURLACHER ALLEE 111</td>\n",
              "      <td>NaN</td>\n",
              "      <td>76137</td>\n",
              "      <td>karlsruhe</td>\n",
              "      <td>49.004379</td>\n",
              "      <td>8.444545</td>\n",
              "      <td>2014-03-18 16:45:31+01</td>\n",
              "      <td>{\"openingTimes\":[{\"applicable_days\":59,\"period...</td>\n",
              "    </tr>\n",
              "    <tr>\n",
              "      <th>15484</th>\n",
              "      <td>fd606c1d-2f43-47df-8934-d1ea98871767</td>\n",
              "      <td>TOTAL Karlsruhe</td>\n",
              "      <td>TOTAL</td>\n",
              "      <td>Durlacher Allee 102</td>\n",
              "      <td>NaN</td>\n",
              "      <td>76137</td>\n",
              "      <td>karlsruhe</td>\n",
              "      <td>49.004658</td>\n",
              "      <td>8.438732</td>\n",
              "      <td>2018-12-03 23:30:10+01</td>\n",
              "      <td>{\"openingTimes\":[{\"applicable_days\":31,\"period...</td>\n",
              "    </tr>\n",
              "    <tr>\n",
              "      <th>14659</th>\n",
              "      <td>5cb08765-da25-4bee-a118-a5710cb9aae5</td>\n",
              "      <td>Wolfartsweierer Straße</td>\n",
              "      <td>BFT</td>\n",
              "      <td>Wolfartsweierer Str.</td>\n",
              "      <td>46</td>\n",
              "      <td>76137</td>\n",
              "      <td>karlsruhe</td>\n",
              "      <td>48.999420</td>\n",
              "      <td>8.428337</td>\n",
              "      <td>2016-08-18 00:00:01+02</td>\n",
              "      <td>{}</td>\n",
              "    </tr>\n",
              "    <tr>\n",
              "      <th>13425</th>\n",
              "      <td>bf9d3a1f-c8a0-4ec3-93ed-018900da43c1</td>\n",
              "      <td>KARLSRUHE - KILLISFELDSTRASSE 44</td>\n",
              "      <td>Agip</td>\n",
              "      <td>Killisfeldstrasse</td>\n",
              "      <td>44</td>\n",
              "      <td>76227</td>\n",
              "      <td>karlsruhe</td>\n",
              "      <td>48.996460</td>\n",
              "      <td>8.454720</td>\n",
              "      <td>2014-03-20 00:00:01+01</td>\n",
              "      <td>{\"openingTimes\":[{\"applicable_days\":15,\"period...</td>\n",
              "    </tr>\n",
              "    <tr>\n",
              "      <th>1843</th>\n",
              "      <td>51d4b432-a095-1aa0-e100-80009459e03a</td>\n",
              "      <td>JET KARLSRUHE KILLISFELDSTR. 32</td>\n",
              "      <td>JET</td>\n",
              "      <td>KILLISFELDSTR. 32</td>\n",
              "      <td>NaN</td>\n",
              "      <td>76227</td>\n",
              "      <td>karlsruhe</td>\n",
              "      <td>48.997040</td>\n",
              "      <td>8.456450</td>\n",
              "      <td>2014-03-18 16:45:31+01</td>\n",
              "      <td>{\"openingTimes\":[{\"applicable_days\":27,\"period...</td>\n",
              "    </tr>\n",
              "    <tr>\n",
              "      <th>10786</th>\n",
              "      <td>0d206f86-308b-43ae-a157-b7e625bdf61b</td>\n",
              "      <td>Aral Tankstelle</td>\n",
              "      <td>ARAL</td>\n",
              "      <td>Haid-und-Neu-Straße</td>\n",
              "      <td>60</td>\n",
              "      <td>76131</td>\n",
              "      <td>karlsruhe</td>\n",
              "      <td>49.015210</td>\n",
              "      <td>8.435365</td>\n",
              "      <td>2014-03-18 16:45:31+01</td>\n",
              "      <td>{\"openingTimes\":[{\"applicable_days\":103,\"perio...</td>\n",
              "    </tr>\n",
              "  </tbody>\n",
              "</table>\n",
              "</div>"
            ],
            "text/plain": [
              "                                       uuid  ...                                  openingtimes_json\n",
              "6298   51d4b715-a095-1aa0-e100-80009459e03a  ...  {\"openingTimes\":[{\"applicable_days\":59,\"period...\n",
              "15484  fd606c1d-2f43-47df-8934-d1ea98871767  ...  {\"openingTimes\":[{\"applicable_days\":31,\"period...\n",
              "14659  5cb08765-da25-4bee-a118-a5710cb9aae5  ...                                                 {}\n",
              "13425  bf9d3a1f-c8a0-4ec3-93ed-018900da43c1  ...  {\"openingTimes\":[{\"applicable_days\":15,\"period...\n",
              "1843   51d4b432-a095-1aa0-e100-80009459e03a  ...  {\"openingTimes\":[{\"applicable_days\":27,\"period...\n",
              "10786  0d206f86-308b-43ae-a157-b7e625bdf61b  ...  {\"openingTimes\":[{\"applicable_days\":103,\"perio...\n",
              "\n",
              "[6 rows x 11 columns]"
            ]
          },
          "metadata": {
            "tags": []
          },
          "execution_count": 2
        }
      ]
    },
    {
      "cell_type": "markdown",
      "metadata": {
        "id": "kklFOACmjwYN"
      },
      "source": [
        "In the next step we want the data for our gas station as well as for the gas station in the vicinity. For that we define a start and an end date of our analysis. Based on the available data we used 01.07.2017 as start date and 31.03.2021 as end date. \n",
        "Reading the prcing data is done by a loop that iterates through the years and months, which are respresent as folders in the data structure of tankerkönig. Per Month every csv-file, containing the prices of all gas stations per day, is readed. After the read of every file the prices for our used gas stations are seperated by subsetting and assigning to a dataframe. In the end we will recieve a csv-file with the data of our gas station and its competitors with all pricing information, that can be read in again in further analysis steps. This subshell runs approx. 40 min.\n"
      ]
    },
    {
      "cell_type": "markdown",
      "metadata": {
        "id": "IocTQl7Tags0"
      },
      "source": [
        "**Visualization of the Gas Stations in Karlsruhe**\n",
        "\n",
        "gfesagseg\n"
      ]
    },
    {
      "cell_type": "code",
      "metadata": {
        "colab": {
          "base_uri": "https://localhost:8080/",
          "height": 1000
        },
        "id": "_HAU6736aosx",
        "outputId": "5467987e-8911-4480-b740-83308216c579"
      },
      "source": [
        "import os, zipfile\n",
        "import matplotlib.pyplot as plt\n",
        "!pip install geopandas\n",
        "import geopandas as gpd\n",
        "\n",
        "%cd /content/drive/MyDrive/DataDeepDivers\n",
        "%mkdir geo-data/\n",
        "%cd geo-data/\n",
        "\n",
        "#If not available download geo-data\n",
        "if not os.path.isfile('plz-gebiete.shp.zip'):\n",
        "  !wget https://www.suche-postleitzahl.org/download_files/public/plz-gebiete.shp.zip #Error 403\n",
        "\n",
        "#Extract data from downloaded zip-file\n",
        "cwd = os.getcwd()\n",
        "zip_ref = zipfile.ZipFile('plz-gebiete.shp.zip') # create zipfile object\n",
        "zip_ref.extractall(cwd) # extract file to dir\n",
        "zip_ref.close()\n",
        "!ls\n",
        "\n",
        "#Read shape-file and create a Dataframe with geopandas for all PLZ-Areas in Germany\n",
        "plz_path = 'plz-gebiete.shp'\n",
        "shape_germany_df = gpd.read_file(plz_path, dtype={\"plz\": str})\n",
        "\n",
        "#Combine the Dataframes stations and shapes\n",
        "stations['plz'] = stations['post_code']\n",
        "shape_germany_df = pd.merge(left=shape_germany_df, right=stations,on=\"plz\",how=\"inner\")\n",
        "\n",
        "#Get GPS-Data of REAL\n",
        "long_real = stations.loc[id_real, \"longitude\"]\n",
        "lat_real = stations.loc[id_real, \"latitude\"]\n",
        "\n",
        "#Subset of shapes and stations for Karlsruhe and initialise Plot\n",
        "karlsruhe_df = shape_germany_df.query('city == \"karlsruhe\"')\n",
        "fig, ax = plt.subplots()\n",
        "plt.rcParams[\"figure.figsize\"] = [10,10]\n",
        "\n",
        "#Loop through every station in Karlsruhe\n",
        "for long, lat in zip(stationsKA[\"longitude\"], stationsKA[\"latitude\"]):\n",
        "\n",
        "#Blue Point for every Gas Station in Karlsruhe\n",
        "  color = \"blue\" \n",
        "  ax.plot(\n",
        "      long,\n",
        "      lat,\n",
        "      marker = \"H\",\n",
        "      c=color,\n",
        "      alpha=0.5,\n",
        "      markersize=10)\n",
        "\n",
        "#Loop through every station that is close to Real\n",
        "for long, lat in zip(stations_close[\"longitude\"], stations_close[\"latitude\"]):\n",
        "\n",
        "#Red Point for every Gas Station in the closer difinity of REAL\n",
        "  color = \"red\"\n",
        "  ax.plot(\n",
        "      long,\n",
        "      lat,\n",
        "      marker = \"o\",\n",
        "      c=color,\n",
        "      alpha=1,\n",
        "      markersize=10)\n",
        "\n",
        "ax.text(\n",
        "    long_real,\n",
        "    lat_real + 0.05,\n",
        "    \"REAL Gas Station\")\n",
        "\n",
        "#Black rectangle for the REAL Gas Station\n",
        "ax.plot(\n",
        "    long_real,\n",
        "    lat_real,\n",
        "    marker = \"D\",\n",
        "    c=\"black\",\n",
        "    alpha=1,\n",
        "    markersize=12)\n",
        "\n",
        "#Plot the map\n",
        "mplleaflet.display(fig=fig)\n",
        "\n"
      ],
      "execution_count": null,
      "outputs": [
        {
          "output_type": "stream",
          "text": [
            "Requirement already satisfied: geopandas in /usr/local/lib/python3.7/dist-packages (0.9.0)\n",
            "Requirement already satisfied: pyproj>=2.2.0 in /usr/local/lib/python3.7/dist-packages (from geopandas) (3.1.0)\n",
            "Requirement already satisfied: shapely>=1.6 in /usr/local/lib/python3.7/dist-packages (from geopandas) (1.7.1)\n",
            "Requirement already satisfied: pandas>=0.24.0 in /usr/local/lib/python3.7/dist-packages (from geopandas) (1.1.5)\n",
            "Requirement already satisfied: fiona>=1.8 in /usr/local/lib/python3.7/dist-packages (from geopandas) (1.8.20)\n",
            "Requirement already satisfied: certifi in /usr/local/lib/python3.7/dist-packages (from pyproj>=2.2.0->geopandas) (2020.12.5)\n",
            "Requirement already satisfied: pytz>=2017.2 in /usr/local/lib/python3.7/dist-packages (from pandas>=0.24.0->geopandas) (2018.9)\n",
            "Requirement already satisfied: numpy>=1.15.4 in /usr/local/lib/python3.7/dist-packages (from pandas>=0.24.0->geopandas) (1.19.5)\n",
            "Requirement already satisfied: python-dateutil>=2.7.3 in /usr/local/lib/python3.7/dist-packages (from pandas>=0.24.0->geopandas) (2.8.1)\n",
            "Requirement already satisfied: six>=1.7 in /usr/local/lib/python3.7/dist-packages (from fiona>=1.8->geopandas) (1.15.0)\n",
            "Requirement already satisfied: click-plugins>=1.0 in /usr/local/lib/python3.7/dist-packages (from fiona>=1.8->geopandas) (1.1.1)\n",
            "Requirement already satisfied: click>=4.0 in /usr/local/lib/python3.7/dist-packages (from fiona>=1.8->geopandas) (7.1.2)\n",
            "Requirement already satisfied: munch in /usr/local/lib/python3.7/dist-packages (from fiona>=1.8->geopandas) (2.5.0)\n",
            "Requirement already satisfied: setuptools in /usr/local/lib/python3.7/dist-packages (from fiona>=1.8->geopandas) (56.1.0)\n",
            "Requirement already satisfied: attrs>=17 in /usr/local/lib/python3.7/dist-packages (from fiona>=1.8->geopandas) (21.2.0)\n",
            "Requirement already satisfied: cligj>=0.5 in /usr/local/lib/python3.7/dist-packages (from fiona>=1.8->geopandas) (0.7.2)\n",
            "/content/drive/MyDrive/DataDeepDivers\n",
            "mkdir: cannot create directory ‘geo-data/’: File exists\n",
            "/content/drive/MyDrive/DataDeepDivers/geo-data\n",
            "plz-gebiete.dbf  plz-gebiete.shp      plz-gebiete.shx\n",
            "plz-gebiete.prj  plz-gebiete.shp.zip\n"
          ],
          "name": "stdout"
        },
        {
          "output_type": "execute_result",
          "data": {
            "text/html": [
              "<iframe src=\"data:text/html;base64,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\" width=\"100%\" height=\"600\"></iframe>"
            ],
            "text/plain": [
              "<IPython.core.display.HTML object>"
            ]
          },
          "metadata": {
            "tags": []
          },
          "execution_count": 14
        }
      ]
    },
    {
      "cell_type": "code",
      "metadata": {
        "id": "paVh80ZrHAfj"
      },
      "source": [
        "import os\n",
        "import csv\n",
        "import pandas as pd\n",
        "import numpy as np\n",
        "import glob\n",
        "from datetime import timedelta, date\n",
        "\n",
        "%cd /content/drive/My Drive/DataDeepDivers/tankerkoenig-data/prices\n",
        "\n",
        "#Defintion of Dates\n",
        "start_date = date(2014, 7, 1)\n",
        "end_date = date(2021, 3, 31)\n",
        "\n",
        "#Start parameters for loop\n",
        "year = start_date.year\n",
        "month = start_date.month\n",
        "\n",
        "#Array of all relevant gas stations\n",
        "uuid_selected = stations_close['uuid']\n",
        "pat = '|'.join(uuid_selected)\n",
        "\n",
        "while year <= end_date.year: #Outer-Loop to iterate the years from start year until end year\n",
        "  if year == start_date.year: #Exception for start year, if start month isn`t january\n",
        "    month = start_date.month\n",
        "  else:\n",
        "    month = 1\n",
        "  %cd /content/drive/My Drive/DataDeepDivers/tankerkoenig-data/prices\n",
        "  os.chdir(str(year)) #Change directory to year  \n",
        "  print(year) #Console-Output to see the progress\n",
        "  while int(month) <= 12: #Inner-Loop to iterate the months\n",
        "    print(month) #Console-Output to see the progress\n",
        "    if year == end_date.year: #Exception for the end year, if end month isn`t december\n",
        "      if month == end_date.month:\n",
        "        break\n",
        "    if month <10: #For the loop we need the months as data type integer, but the directorys in data structure are always 2-digits so we have to add a \"0\" for january to september\n",
        "      month = \"0\"+str(month)\n",
        "      print(month)      \n",
        "    os.chdir(str(month)) #Change directory to month       \n",
        "    path = os.getcwd()\n",
        "    csv_files = glob.glob(os.path.join(path, \"*.csv\")) #Merge all csv files in the folder\n",
        "    for file in csv_files: #Loop through the csv files\n",
        "      add = pd.read_csv(file) #read each file\n",
        "      add = add[add['station_uuid'].str.contains(pat)] #subset of newly readed file with the relevant gas stations\n",
        "      if \"df\" in globals(): #add subset to dataframe if dataframe already exsists \n",
        "        df = df.append(add)\n",
        "      else: \n",
        "        df = add\n",
        "      del add      \n",
        "    month = int(month) #re-transform month to integer\n",
        "    month += 1 #go to next month\n",
        "    os.chdir(\"..\")\n",
        "  month = 1 #after a whole year is done, set month back to january\n",
        "  year += 1 #go to next year\n",
        "\n",
        "df.info()\n",
        "%cd /content/drive/My Drive/DataDeepDivers/tankerkoenig-data/prices\n",
        "df.to_csv('prices_stations_close_'+str(radius)+'.csv', index=False) #write dataframe to csv if whole process is done"
      ],
      "execution_count": null,
      "outputs": []
    },
    {
      "cell_type": "markdown",
      "metadata": {
        "id": "fHAJyHh_GE0c"
      },
      "source": [
        "# Pre-Processing"
      ]
    },
    {
      "cell_type": "markdown",
      "metadata": {
        "id": "ofwa9fQDHuqp"
      },
      "source": [
        "# Pricing\n",
        "The price is focusing on the oil price that the customer is paying to the gas station. Therefore, the price of the choosen gas station is compared to their competitors. The actual price and the effects of pricing strategies like increasing or decreasing the price are compared, based on the customer inventory.\n"
      ]
    },
    {
      "cell_type": "markdown",
      "metadata": {
        "id": "PrfhxASC0Wga"
      },
      "source": [
        "# Impact of large-scaled Events"
      ]
    },
    {
      "cell_type": "markdown",
      "metadata": {
        "id": "by8c7CDh0bOn"
      },
      "source": [
        "From an economic perspective, demand influences price. The demand increases if a lot of people visit a city because they attend an event. For Karlsruhe the project team noted the following events as potential impact for the gas price because of high demand:\n",
        "\n",
        "*   Football games of the Karlsruher Sport-Club (KSC)\n",
        "*   Das Fest - A popular Music festival\n",
        "*   offerta - A consumer fair\n",
        "*   Schlosslichtspiele - An event in the city of Karlsruhe\n",
        "\n",
        "In the following data for these events is collected and created as well as weighted. Escpailay the data for football games has to be weighted because not every game attracts the same amount of people. \n",
        "Due to the covid-19 pandamic this analysis will include data from July 2017 until February 2020. The goal is to find out whether these events impact the price of the gas stations. \n"
      ]
    },
    {
      "cell_type": "markdown",
      "metadata": {
        "id": "s0vdWoV-0e4G"
      },
      "source": [
        "## **Data for Karlsruher Sport-Club**\n",
        "\n",
        "The data can be found on footystats.org or in the github repository. The data contains all league games of the KSC as well as all other games in the season. \n",
        "Cup games will be ignored because there were only a few amount of games that are relevant. For this analysis we only consider the away fans, because only the away fans have a longer trip to the stadium.\n",
        "\n",
        "In the first step the KSC games will be filtered. We will have a look on Home and Away games because in both kind of games a large group of people will travel from or to Karlsruhe. In the next step the games will be classified into different categories, because not every game attracteds the same amount of people."
      ]
    },
    {
      "cell_type": "code",
      "metadata": {
        "colab": {
          "base_uri": "https://localhost:8080/",
          "height": 221
        },
        "id": "7ry2u88H0nZu",
        "outputId": "917b054a-2e01-4e1b-8503-17dc110eb186"
      },
      "source": [
        "%cd /content/drive/My Drive/DataDeepDivers/other\n",
        "\n",
        "#Read in data of leagues and extract the KSC games\n",
        "ksc1718 = pd.read_csv(\"germany-3-liga-matches-2017-to-2018-stats.csv\")\n",
        "ksc1718 = ksc1718[[\"date_GMT\",\"Game Week\",\"home_team_name\",\"away_team_name\",\"attendance\",\"stadium_name\"]]\n",
        "ksc1718 = ksc1718[(ksc1718['home_team_name'] == \"Karlsruher SC\") |(ksc1718['away_team_name'] == \"Karlsruher SC\")]\n",
        "\n",
        "ksc1819 = pd.read_csv(\"germany-3-liga-matches-2018-to-2019-stats.csv\")\n",
        "ksc1819 = ksc1819[[\"date_GMT\",\"Game Week\",\"home_team_name\",\"away_team_name\",\"attendance\",\"stadium_name\"]]\n",
        "ksc1819 = ksc1819[(ksc1819['home_team_name'] == \"Karlsruher SC\") |(ksc1819['away_team_name'] == \"Karlsruher SC\")]\n",
        "\n",
        "ksc1920 = pd.read_csv(\"germany-2-bundesliga-matches-2019-to-2020-stats.csv\")\n",
        "ksc1920 = ksc1920[[\"date_GMT\",\"Game Week\",\"home_team_name\",\"away_team_name\",\"attendance\",\"stadium_name\"]]\n",
        "ksc1920 = ksc1920[(ksc1920['home_team_name'] == \"Karlsruher SC\") |(ksc1920['away_team_name'] == \"Karlsruher SC\")]\n",
        "\n",
        "#Combine all season into one dataframe\n",
        "ksc = ksc1718\n",
        "ksc = ksc.append(ksc1819, ignore_index=True)\n",
        "ksc = ksc.append(ksc1920, ignore_index=True)\n",
        "\n",
        "\n",
        "ksc[\"date\"] = ksc[\"date_GMT\"].astype('datetime64[ns]') #Convert date to a date-data-type\n",
        "ksc[\"attendance\"] = ksc[\"attendance\"].astype('int32')\n",
        "ksc['event'] = ksc['home_team_name'] + \" - \" + ksc['away_team_name']\n",
        "ksc[\"attendance_overall\"] = ksc[\"attendance\"]\n",
        "\n",
        "#Model for away games: In Germany per Game there are round about 10% fans of the away team. If KSC has a away game 10% of the overvall attendance from Karlsruhe and is relevant for the analysis\n",
        "for i in range(len(ksc)):\n",
        "  if 'Karlsruher SC' in ksc.loc[i,'away_team_name']:\n",
        "    ksc.loc[i,'attendance'] = ksc.loc[i,'attendance'] * 0.1\n",
        "\n",
        "ksc[\"attendance\"] = ksc[\"attendance\"].astype('int32')\n",
        "kscshort = ksc[['date','event','attendance']]\n",
        "\n",
        "kscshort.sample(5)"
      ],
      "execution_count": null,
      "outputs": [
        {
          "output_type": "stream",
          "text": [
            "/content/drive/My Drive/DataDeepDivers/other\n"
          ],
          "name": "stdout"
        },
        {
          "output_type": "execute_result",
          "data": {
            "text/html": [
              "<div>\n",
              "<style scoped>\n",
              "    .dataframe tbody tr th:only-of-type {\n",
              "        vertical-align: middle;\n",
              "    }\n",
              "\n",
              "    .dataframe tbody tr th {\n",
              "        vertical-align: top;\n",
              "    }\n",
              "\n",
              "    .dataframe thead th {\n",
              "        text-align: right;\n",
              "    }\n",
              "</style>\n",
              "<table border=\"1\" class=\"dataframe\">\n",
              "  <thead>\n",
              "    <tr style=\"text-align: right;\">\n",
              "      <th></th>\n",
              "      <th>date</th>\n",
              "      <th>event</th>\n",
              "      <th>attendance</th>\n",
              "    </tr>\n",
              "  </thead>\n",
              "  <tbody>\n",
              "    <tr>\n",
              "      <th>79</th>\n",
              "      <td>2019-08-25 11:30:00</td>\n",
              "      <td>Karlsruher SC - Hamburger SV</td>\n",
              "      <td>15000</td>\n",
              "    </tr>\n",
              "    <tr>\n",
              "      <th>84</th>\n",
              "      <td>2019-10-04 16:30:00</td>\n",
              "      <td>Darmstadt 98 - Karlsruher SC</td>\n",
              "      <td>1485</td>\n",
              "    </tr>\n",
              "    <tr>\n",
              "      <th>89</th>\n",
              "      <td>2019-11-24 12:30:00</td>\n",
              "      <td>Stuttgart - Karlsruher SC</td>\n",
              "      <td>5748</td>\n",
              "    </tr>\n",
              "    <tr>\n",
              "      <th>1</th>\n",
              "      <td>2017-07-28 17:00:00</td>\n",
              "      <td>Unterhaching - Karlsruher SC</td>\n",
              "      <td>500</td>\n",
              "    </tr>\n",
              "    <tr>\n",
              "      <th>70</th>\n",
              "      <td>2019-04-15 17:00:00</td>\n",
              "      <td>Würzburger Kickers - Karlsruher SC</td>\n",
              "      <td>785</td>\n",
              "    </tr>\n",
              "  </tbody>\n",
              "</table>\n",
              "</div>"
            ],
            "text/plain": [
              "                  date                               event  attendance\n",
              "79 2019-08-25 11:30:00        Karlsruher SC - Hamburger SV       15000\n",
              "84 2019-10-04 16:30:00        Darmstadt 98 - Karlsruher SC        1485\n",
              "89 2019-11-24 12:30:00           Stuttgart - Karlsruher SC        5748\n",
              "1  2017-07-28 17:00:00        Unterhaching - Karlsruher SC         500\n",
              "70 2019-04-15 17:00:00  Würzburger Kickers - Karlsruher SC         785"
            ]
          },
          "metadata": {
            "tags": []
          },
          "execution_count": 45
        }
      ]
    },
    {
      "cell_type": "markdown",
      "metadata": {
        "id": "iTjeqncD0uHj"
      },
      "source": [
        "## **Data for \"Das Fest\", \"Offerta\" and \"Schlosslichtspiele\"**\n",
        "\n",
        "For these events there aren`t any predefined data sources (csv, ...) available so we will create this data frames manually basend on information from different sources."
      ]
    },
    {
      "cell_type": "code",
      "metadata": {
        "id": "v8w5l2do0tjb"
      },
      "source": [
        "dataOfferta = {'date':       ['28.10.2017','29.10.2017','30.10.2017','31.10.2017','01.11.2017','02.11.2017','03.11.2017','04.11.2017','05.11.2017','27.10.2018','28.10.2018','29.10.2018','30.10.2018','31.10.2018','01.11.2018','02.11.2018','03.11.2018',\n",
        "                              '04.11.2018','26.10.2019','27.10.2019','28.10.2019','29.10.2019','30.10.2019','31.10.2019','01.11.2019','02.11.2019','03.11.2019'],\n",
        "               'event':      ['Offerta','Offerta','Offerta','Offerta','Offerta','Offerta','Offerta','Offerta','Offerta','Offerta','Offerta','Offerta','Offerta','Offerta','Offerta','Offerta','Offerta','Offerta','Offerta','Offerta','Offerta','Offerta',\n",
        "                              'Offerta','Offerta','Offerta','Offerta','Offerta'],\n",
        "               'attendance': ['15555','15555','15555','15555','15555','15555','15555','15555','15555','15555','15555','15555','15555','15555','15555','15555','15555','15555','15555','15555','15555','15555','15555','15555','15555','15555','15555',]        \n",
        "              } #Source: Various local newspapers\n",
        "\n",
        "offerta = pd.DataFrame(dataOfferta, columns=['date','event','attendance'])\n",
        "offerta[\"date\"] = offerta[\"date\"].astype('datetime64[ns]')\n",
        "offerta[\"attendance\"] = offerta[\"attendance\"].astype('int32')\n",
        "\n",
        "#print(offerta)\n",
        "#offerta.sample(10)"
      ],
      "execution_count": null,
      "outputs": []
    },
    {
      "cell_type": "code",
      "metadata": {
        "id": "0gmvJCAX0z6a"
      },
      "source": [
        "dataFest = {'date':       ['24.07.2017','25.07.2017','26.07.2017','20.07.2018','21.07.2018','22.07.2018','19.07.2019','20.07.2019','21.07.2019'],\n",
        "               'event':      ['Das Fest','Das Fest','Das Fest','Das Fest','Das Fest','Das Fest','Das Fest','Das Fest','Das Fest'],\n",
        "               'attendance': ['65000','70000','85000','65000','70000','85000','65000','70000','85000']        \n",
        "              } #Source: Various local newspapers\n",
        "\n",
        "fest = pd.DataFrame(dataFest, columns=['date','event','attendance'])\n",
        "fest[\"date\"] = fest[\"date\"].astype('datetime64[ns]')\n",
        "fest[\"attendance\"] = fest[\"attendance\"].astype('int32')\n",
        "\n",
        "#print(fest)\n",
        "#fest.info()"
      ],
      "execution_count": null,
      "outputs": []
    },
    {
      "cell_type": "code",
      "metadata": {
        "id": "_LtzzAji01nB"
      },
      "source": [
        "dataSchlosslichtspiele = {'date': ['03.08.2017','04.08.2017','05.08.2017','06.08.2017','07.08.2017','08.08.2017','09.08.2017','10.08.2017','11.08.2017','12.08.2017','13.08.2017','14.08.2017','15.08.2017','16.08.2017','17.08.2017','18.08.2017','19.08.2017','20.08.2017',\n",
        "                                   '21.08.2017','22.08.2017','23.08.2017','24.08.2017','25.08.2017','26.08.2017','27.08.2017','28.08.2017','29.08.2017','30.08.2017','31.08.2017','01.09.2017','02.09.2017','03.09.2017','04.09.2017','05.09.2017','06.09.2017','07.09.2017',\n",
        "                                   '08.09.2017','09.09.2017','10.09.2017','28.07.2018','29.07.2018','30.07.2018','31.07.2018','01.08.2018','02.08.2018','03.08.2018','04.08.2018','05.08.2018','06.08.2018','07.08.2018','08.08.2018','09.08.2018','10.08.2018','11.08.2018',\n",
        "                                   '12.08.2018','13.08.2018','14.08.2018','15.08.2018','16.08.2018','17.08.2018','18.08.2018','19.08.2018','20.08.2018','21.08.2018','22.08.2018','23.08.2018','24.08.2018','25.08.2018','26.08.2018','27.08.2018','28.08.2018','29.08.2018',\n",
        "                                   '30.08.2018','31.08.2018','01.09.2018','02.09.2018','03.09.2018','04.09.2018','05.09.2018','06.09.2018','07.09.2018','08.09.2018','09.09.2018','08.08.2019','09.08.2019','10.08.2019','11.08.2019','12.08.2019','13.08.2019','14.08.2019',\n",
        "                                   '15.08.2019','16.08.2019','17.08.2019','18.08.2019','19.08.2019','20.08.2019','21.08.2019','22.08.2019','23.08.2019','24.08.2019','25.08.2019','26.08.2019','27.08.2019','28.08.2019','29.08.2019','30.08.2019','31.08.2019','01.09.2019',\n",
        "                                   '02.09.2019','03.09.2019','04.09.2019','05.09.2019','06.09.2019','07.09.2019','08.09.2019','09.09.2019','10.09.2019','11.09.2019','12.09.2019','13.09.2019','14.09.2019','15.09.2019'],\n",
        "               'event':      ['Schlosslichtspiele','Schlosslichtspiele','Schlosslichtspiele','Schlosslichtspiele','Schlosslichtspiele','Schlosslichtspiele','Schlosslichtspiele','Schlosslichtspiele','Schlosslichtspiele','Schlosslichtspiele',\n",
        "                              'Schlosslichtspiele','Schlosslichtspiele','Schlosslichtspiele','Schlosslichtspiele','Schlosslichtspiele','Schlosslichtspiele','Schlosslichtspiele','Schlosslichtspiele','Schlosslichtspiele','Schlosslichtspiele',\n",
        "                              'Schlosslichtspiele','Schlosslichtspiele','Schlosslichtspiele','Schlosslichtspiele','Schlosslichtspiele','Schlosslichtspiele','Schlosslichtspiele','Schlosslichtspiele','Schlosslichtspiele','Schlosslichtspiele',\n",
        "                              'Schlosslichtspiele','Schlosslichtspiele','Schlosslichtspiele','Schlosslichtspiele','Schlosslichtspiele','Schlosslichtspiele','Schlosslichtspiele','Schlosslichtspiele','Schlosslichtspiele','Schlosslichtspiele',\n",
        "                              'Schlosslichtspiele','Schlosslichtspiele','Schlosslichtspiele','Schlosslichtspiele','Schlosslichtspiele','Schlosslichtspiele','Schlosslichtspiele','Schlosslichtspiele','Schlosslichtspiele','Schlosslichtspiele',\n",
        "                              'Schlosslichtspiele','Schlosslichtspiele','Schlosslichtspiele','Schlosslichtspiele','Schlosslichtspiele','Schlosslichtspiele','Schlosslichtspiele','Schlosslichtspiele','Schlosslichtspiele','Schlosslichtspiele',\n",
        "                              'Schlosslichtspiele','Schlosslichtspiele','Schlosslichtspiele','Schlosslichtspiele','Schlosslichtspiele','Schlosslichtspiele','Schlosslichtspiele','Schlosslichtspiele','Schlosslichtspiele','Schlosslichtspiele',\n",
        "                              'Schlosslichtspiele','Schlosslichtspiele','Schlosslichtspiele','Schlosslichtspiele','Schlosslichtspiele','Schlosslichtspiele','Schlosslichtspiele','Schlosslichtspiele','Schlosslichtspiele','Schlosslichtspiele',\n",
        "                              'Schlosslichtspiele','Schlosslichtspiele','Schlosslichtspiele','Schlosslichtspiele','Schlosslichtspiele','Schlosslichtspiele','Schlosslichtspiele','Schlosslichtspiele','Schlosslichtspiele','Schlosslichtspiele',\n",
        "                              'Schlosslichtspiele','Schlosslichtspiele','Schlosslichtspiele','Schlosslichtspiele','Schlosslichtspiele','Schlosslichtspiele','Schlosslichtspiele','Schlosslichtspiele','Schlosslichtspiele','Schlosslichtspiele',\n",
        "                              'Schlosslichtspiele','Schlosslichtspiele','Schlosslichtspiele','Schlosslichtspiele','Schlosslichtspiele','Schlosslichtspiele','Schlosslichtspiele','Schlosslichtspiele','Schlosslichtspiele','Schlosslichtspiele',\n",
        "                              'Schlosslichtspiele','Schlosslichtspiele','Schlosslichtspiele','Schlosslichtspiele','Schlosslichtspiele','Schlosslichtspiele','Schlosslichtspiele','Schlosslichtspiele','Schlosslichtspiele','Schlosslichtspiele',\n",
        "                              'Schlosslichtspiele','Schlosslichtspiele'],\n",
        "               'attendance': ['6487','6487','6487','6487','6487','6487','6487','6487','6487','6487','6487','6487','6487','6487','6487','6487','6487','6487','6487','6487','6487','6487','6487','6487','6487','6487','6487','6487','6487','6487','6487','6487','6487',\n",
        "                              '6487','6487','6487','6487','6487','6487','8139','8139','8139','8139','8139','8139','8139','8139','8139','8139','8139','8139','8139','8139','8139','8139','8139','8139','8139','8139','8139','8139','8139','8139','8139','8139','8139',\n",
        "                              '8139','8139','8139','8139','8139','8139','8139','8139','8139','8139','8139','8139','8139','8139','8139','8139','8139','8102','8102','8102','8102','8102','8102','8102','8102','8102','8102','8102','8102','8102','8102','8102','8102',\n",
        "                              '8102','8102','8102','8102','8102','8102','8102','8102','8102','8102','8102','8102','8102','8102','8102','8102','8102','8102','8102','8102','8102','8102','8102']        \n",
        "              } #Source: https://bnn.de/karlsruhe/karlsruher-schlosslichtspiele-mit-mehr-als-310-000-besuchern#:~:text=Karlsruher%20Schlosslichtspiele%20mit%20mehr%20als%20310.000%20Besuchern \n",
        "\n",
        "schlosslichtspiele = pd.DataFrame(dataSchlosslichtspiele, columns=['date','event','attendance'])\n",
        "schlosslichtspiele[\"date\"] = schlosslichtspiele[\"date\"].astype('datetime64[ns]')\n",
        "schlosslichtspiele[\"attendance\"] = schlosslichtspiele[\"attendance\"].astype('int32')\n",
        "\n",
        "#print(Schlosslichtspiele)\n",
        "#Schlosslichtspiele.info()"
      ],
      "execution_count": null,
      "outputs": []
    },
    {
      "cell_type": "markdown",
      "metadata": {
        "id": "8qb8xrOf0zm-"
      },
      "source": [
        "## **Analysis large-scaled events**\n",
        "\n",
        "xy"
      ]
    },
    {
      "cell_type": "code",
      "metadata": {
        "colab": {
          "base_uri": "https://localhost:8080/",
          "height": 505
        },
        "id": "D2Rj6KDx055L",
        "outputId": "0cdc62d0-9b78-4e9d-bd1e-da54f4664184"
      },
      "source": [
        "#Combine all kind of events in one dataframe\n",
        "events = kscshort\n",
        "events = events.append(offerta,ignore_index=True)\n",
        "events = events.append(fest,ignore_index=True)\n",
        "events = events.append(schlosslichtspiele,ignore_index=True)\n",
        "\n",
        "events = events[events['attendance'] >= 2000]\n",
        "\n",
        "\n",
        "print(events)\n",
        "\n",
        "plotdata = events['attendance']\n",
        "\n",
        "plotdata.plot.hist(bins=8, rwidth=0.9)\n",
        "\n",
        "events.loc[events['attendance']>=20000, 'class'] = 1\n",
        "events.loc[(events['attendance']>=10000) & (events['attendance']<20000), 'class'] = 2\n",
        "events.loc[events['attendance']<10000, 'class'] = 3"
      ],
      "execution_count": null,
      "outputs": [
        {
          "output_type": "stream",
          "text": [
            "                   date                               event  attendance\n",
            "0   2017-07-21 18:30:00           Karlsruher SC - Osnabrück       14837\n",
            "3   2017-08-05 12:00:00     Karlsruher SC - Wehen Wiesbaden        9646\n",
            "5   2017-08-26 12:00:00       Karlsruher SC - Hallescher FC        9580\n",
            "7   2017-09-16 12:00:00  Karlsruher SC - Sportfreunde Lotte        8438\n",
            "9   2017-09-24 12:00:00     Karlsruher SC - Rot-Weiß Erfurt        9709\n",
            "..                  ...                                 ...         ...\n",
            "263 2019-11-09 00:00:00                  Schlosslichtspiele        8102\n",
            "264 2019-12-09 00:00:00                  Schlosslichtspiele        8102\n",
            "265 2019-09-13 00:00:00                  Schlosslichtspiele        8102\n",
            "266 2019-09-14 00:00:00                  Schlosslichtspiele        8102\n",
            "267 2019-09-15 00:00:00                  Schlosslichtspiele        8102\n",
            "\n",
            "[217 rows x 3 columns]\n"
          ],
          "name": "stdout"
        },
        {
          "output_type": "display_data",
          "data": {
            "image/png": "[encoded data removed]",
            "text/plain": [
              "<Figure size 432x288 with 1 Axes>"
            ]
          },
          "metadata": {
            "tags": [],
            "needs_background": "light"
          }
        }
      ]
    },
    {
      "cell_type": "markdown",
      "metadata": {
        "id": "YFvyomhdTP4r"
      },
      "source": [
        "# Impact of weather"
      ]
    },
    {
      "cell_type": "markdown",
      "metadata": {
        "id": "Vs7mbLI9TTMJ"
      },
      "source": [
        "The next aspect we want to analyse is the impact of weather. The Assumption is that more people make trips if the weather is good which will lead to an increase in the price for fuel because of higher demand. In the following we want to proof if this assumption is correct and if so if its worth it to include weather data in the pricing model. \n",
        "\n",
        "The data is provided by Deutscher Wetterdienst (DWD) which runs hundreds of weather stations in Germany. If you have a look at the stations list (https://opendata.dwd.de/climate_environment/CDC/observations_germany/climate/10_minutes/air_temperature/historical/zehn_min_tu_Beschreibung_Stationen.txt) you find a station in Karlsurhe which is located 5.3 km away from REAL. Unfortunaly this weather station was shut down in 2008 so there isn't data available for our analysis time periode. \n",
        "For that reason we choose a weather station in Rheinstetten (9.5 km away of REAL). \n",
        "\n",
        "The goal is to generate a data frame with each day in the analysis time periode and a metric from 0 to 1 that indicated good weather in the morning, midday and evening. 1 stands for the best possible weather with warm tempatures and no rain, 0 stands for Rain and low tempartures. \n",
        "For this we download the data as zip-files from DWD. For rain and air temperature we need '10_minutes_hist_10_19' which contains a 10 minutes measurements from 2010 to 2019. Further we need '10_minutes_akt' for the measurments since 2020 to 2021. Because this files are always from the day bevor today until 500 days in past, a download form the official side will lead to a lack of data because the submission date of this analysis. For that we uploaded this files in the github repo. "
      ]
    },
    {
      "cell_type": "code",
      "metadata": {
        "id": "exH3OW0wTWAH"
      },
      "source": [
        "import zipfile, os\n",
        "\n",
        "#Download and Unzip Precipitation and Temperature data\n",
        "%cd /content/drive/MyDrive/DataDeepDivers\n",
        "!mkdir weather\n",
        "%cd weather\n",
        "\n",
        "#Rain data for Rheinstetten 2010-2019\n",
        "if not os.path.isfile('10minutenwerte_nieder_04177_20100101_20191231_hist.zip'):\n",
        "  !wget https://opendata.dwd.de/climate_environment/CDC/observations_germany/climate/10_minutes/precipitation/historical/10minutenwerte_nieder_04177_20100101_20191231_hist.zip\n",
        "\n",
        "#Rain data for Rheinstetten December 2019 - June 2021\n",
        "if not os.path.isfile('10minutenwerte_nieder_04177_akt.zip'):\n",
        "  !wget https://opendata.dwd.de/climate_environment/CDC/observations_germany/climate/10_minutes/precipitation/recent/10minutenwerte_nieder_04177_akt.zip ##ERSETZEN MIT GITHUB LINK\n",
        "\n",
        "#Air temperature data for Rheinstetten 2010-2019\n",
        "if not os.path.isfile('10minutenwerte_TU_04177_20100101_20191231_hist.zip'):\n",
        "  !wget https://opendata.dwd.de/climate_environment/CDC/observations_germany/climate/10_minutes/air_temperature/historical/10minutenwerte_TU_04177_20100101_20191231_hist.zip\n",
        "\n",
        "#Air temperature for Rheinstetten December 2019 - June 2021\n",
        "if not os.path.isfile('10minutenwerte_TU_04177_akt.zip'):\n",
        "  !wget https://opendata.dwd.de/climate_environment/CDC/observations_germany/climate/10_minutes/air_temperature/recent/10minutenwerte_TU_04177_akt.zip ##ERSETZEN MIT GITHUB LINK\n",
        "\n",
        "\n",
        "#Loop through folder and extract all zip-files (Source: https://stackoverflow.com/questions/31346790/unzip-all-zipped-files-in-a-folder-to-that-same-folder-using-python-2-7-5)\n",
        "cwd = os.getcwd()\n",
        "extension = \".zip\"\n",
        "for item in os.listdir(cwd): # loop through items in dir\n",
        "    if item.endswith(extension): # check for \".zip\" extension\n",
        "        file_name = os.path.abspath(item) # get full path of files\n",
        "        zip_ref = zipfile.ZipFile(file_name) # create zipfile object\n",
        "        zip_ref.extractall(cwd) # extract file to dir\n",
        "        zip_ref.close() # close file\n",
        "!ls"
      ],
      "execution_count": null,
      "outputs": []
    },
    {
      "cell_type": "markdown",
      "metadata": {
        "id": "S5p8I_I0TZ3v"
      },
      "source": [
        "After downloading and extracting the zip-files the feature engineering starts. First the data is read in from every file and subseted to relevant time periode (01.07.2014 - 31.03.2017). Next all dataframes are merged togehter so we only have one data frame with the 10 minutes measurements of rain and temperture. Next 'morning' is defined from 7 am to 12 am, 'midday' is defined from 12 am to 5 pm and 'evening' is defined from 5 pm to 9 pm. Everything outside of this range is not relevant because it is not the typical time for trips and excursions. After that, we evaluate if the weather is good in the morning, midday and evening and resample everything as the mean per day. In the last steps we make sure that the values for good weather are really a value between 0 and 1 and reduce the dataframe to only the relevant values."
      ]
    },
    {
      "cell_type": "code",
      "metadata": {
        "id": "p8RnuXdyTazp"
      },
      "source": [
        "%cd /content/drive/MyDrive/DataDeepDivers/weather/\n",
        "\n",
        "from datetime import datetime, time\n",
        "import pandas as pd\n",
        "import numpy as np\n",
        "import os\n",
        "\n",
        "\n",
        "#Read in all data from the extracted txt-files\n",
        "sub_rain = 'produkt_zehn_min_rr_20191201_'\n",
        "sub_air = 'produkt_zehn_min_tu_20191201_'\n",
        "\n",
        "###\n",
        "### Nochmal Zeitrechnisch mit Download nacharbeiten, da Akt immer 500 Tage zurückliegt und dies mit der Korrektur knapp wird\n",
        "###\n",
        "\n",
        "file_rain = [s for s in  os.listdir(os.getcwd()) if sub_rain in s]\n",
        "file_air = [s for s in  os.listdir(os.getcwd()) if sub_air in s]\n",
        "\n",
        "rain_10_19 = pd.read_csv('produkt_zehn_min_rr_20100101_20191231_04177.txt', sep=\";\")\n",
        "rain_10_19 = rain_10_19[(rain_10_19['MESS_DATUM']>=201407010000)]\n",
        "rain_10_19['MESS_DATUM'] = pd.to_datetime(rain_10_19['MESS_DATUM'], format='%Y%m%d%H%M')\n",
        "\n",
        "rain_20_21 = pd.read_csv(file_rain[0], sep=\";\")\n",
        "rain_20_21 = rain_20_21[(rain_20_21['MESS_DATUM']>=202001010000)&(rain_20_21['MESS_DATUM']<=202103312350)]\n",
        "rain_20_21['MESS_DATUM'] = pd.to_datetime(rain_20_21['MESS_DATUM'], format='%Y%m%d%H%M')\n",
        "\n",
        "air_10_19 = pd.read_csv('produkt_zehn_min_tu_20100101_20191231_04177.txt', sep=\";\")\n",
        "air_10_19 = air_10_19[(air_10_19['MESS_DATUM']>=201407010000)]\n",
        "air_10_19['MESS_DATUM'] = pd.to_datetime(air_10_19['MESS_DATUM'], format='%Y%m%d%H%M')\n",
        "\n",
        "air_20_21 = pd.read_csv(file_air[0], sep=\";\")\n",
        "air_20_21 = air_20_21[(air_20_21['MESS_DATUM']>=202001010000)&(air_20_21['MESS_DATUM']<=202103312350)]\n",
        "air_20_21['MESS_DATUM'] = pd.to_datetime(air_20_21['MESS_DATUM'], format='%Y%m%d%H%M')\n",
        "\n",
        "#Merge all dataframes together\n",
        "rain = rain_10_19.append(rain_20_21)\n",
        "air = air_10_19.append(air_20_21)\n",
        "rain = rain.drop(columns=['eor','  QN',])\n",
        "air = air.drop(columns=['eor','  QN','STATIONS_ID'])\n",
        "\n",
        "del air_10_19, air_20_21, rain_10_19, rain_20_21\n",
        "\n",
        "weather = pd.merge(left=rain, right=air, on='MESS_DATUM',how='inner')\n",
        "\n",
        "weather['time'] = [d.time() for d in weather['MESS_DATUM']]\n",
        "weather['date'] = [d.date() for d in weather['MESS_DATUM']]\n",
        "\n",
        "#Pre-Work to decide if weather is good\n",
        "weather['morning'] = 0\n",
        "weather['midday'] = 0\n",
        "weather['evening'] = 0\n",
        "weather['good_weather_morning'] = 0\n",
        "weather['good_weather_midday'] = 0\n",
        "weather['good_weather_evening'] = 0\n",
        "\n",
        "weather.loc[(weather['time'] >= time(7,00)) & (weather['time'] < time(12,00)), 'morning'] = 1\n",
        "weather.loc[(weather['time'] >= time(12,00)) & (weather['time'] < time(17,00)), 'midday'] = 1\n",
        "weather.loc[(weather['time'] >= time(17,00)) & (weather['time'] <= time(21,00)), 'evening'] = 1\n",
        "\n",
        "#Specify if Weather counts as \"good\". Good means no rain (RWS_10 = 0) and Warm temperatures (TT_10 >15)\n",
        "weather.loc[(weather['morning']==1) & (weather['RWS_10'] <= 0) & (weather['TT_10'] >=10.0), 'good_weather_morning'] = 1\n",
        "weather.loc[(weather['midday']==1) & (weather['RWS_10'] <= 0) & (weather['TT_10'] >=15.0), 'good_weather_midday'] = 1\n",
        "weather.loc[(weather['evening']==1) & (weather['RWS_10'] <= 0) & (weather['TT_10'] >=15.0), 'good_weather_evening'] = 1\n",
        "\n",
        "#Resample for daily averages\n",
        "weather.index = weather['MESS_DATUM']\n",
        "weather = weather.drop('MESS_DATUM', axis=1)\n",
        "w_davg = weather.resample('D').mean()\n",
        "\n",
        "#Each day consits of 144 measurments (00:00 to 23:50 in 10 minutes steps). 'Morning' and 'Midday' consits of 30, 'Evening' consists of 25. By multiplying this share we get a more usefull values in 'good_weather'. \n",
        "#A Value of 1 in 'good_weather' means that every of the 30 or 25 measurements was labeled as good.\n",
        "w_davg['good_weather_morning'] = w_davg['good_weather_morning']/(30/144)\n",
        "w_davg['good_weather_midday'] = w_davg['good_weather_midday']/(30/144)\n",
        "w_davg['good_weather_evening'] = w_davg['good_weather_evening']/(25/144)\n",
        "\n",
        "#Reduce dataframe to relevant measurements\n",
        "w_davg_short = w_davg.drop(columns=['STATIONS_ID','RWS_DAU_10','RWS_IND_10','PP_10','TM5_10','RF_10','TD_10','morning','midday','evening','TT_10','RWS_10'])\n",
        "\n",
        "#w_davg_short.describe()\n",
        "w_davg_short.sample(10)"
      ],
      "execution_count": null,
      "outputs": []
    },
    {
      "cell_type": "markdown",
      "metadata": {
        "id": "4yzc7ipmyaKj"
      },
      "source": [
        "# Impact of Oil "
      ]
    },
    {
      "cell_type": "markdown",
      "metadata": {
        "id": "1QceGxsGyvN0"
      },
      "source": [
        "..."
      ]
    },
    {
      "cell_type": "code",
      "metadata": {
        "id": "BLLtbHd30hvN"
      },
      "source": [
        "import pandas as pd\n",
        "import numpy as np"
      ],
      "execution_count": null,
      "outputs": []
    },
    {
      "cell_type": "code",
      "metadata": {
        "colab": {
          "base_uri": "https://localhost:8080/"
        },
        "id": "aGK6GWCxz-XY",
        "outputId": "7838ccd8-a818-45b9-e65d-a1ab2a1dfb23"
      },
      "source": [
        "!ls"
      ],
      "execution_count": null,
      "outputs": [
        {
          "output_type": "stream",
          "text": [
            "additionalDataSourcesTest   oilprice-data      TobisSpielwiese.ipynb\n",
            "BigDataAnalytics_DataDepot  tankerkoenig-data  wkn_COM062_historic.csv\n",
            "Oilprice_BrentCrude.csv     titanic.csv\n"
          ],
          "name": "stdout"
        }
      ]
    },
    {
      "cell_type": "code",
      "metadata": {
        "id": "lr-l8YODzwhB"
      },
      "source": [
        "! git clone https://github.com/imiolczy/additionalDataSourcesTest"
      ],
      "execution_count": null,
      "outputs": []
    },
    {
      "cell_type": "code",
      "metadata": {
        "id": "dVAdpN6X0FPv"
      },
      "source": [
        "oil_courses = pd.read_csv (\"/content/drive/MyDrive/DataDeepDivers/additionalDataSourcesTest/additional Data Sets/oil.csv\", sep= ';')"
      ],
      "execution_count": null,
      "outputs": []
    },
    {
      "cell_type": "code",
      "metadata": {
        "colab": {
          "base_uri": "https://localhost:8080/",
          "height": 419
        },
        "id": "VsFigdug0jpJ",
        "outputId": "e110546a-14ec-4507-8012-6edc007630db"
      },
      "source": [
        "oil_courses"
      ],
      "execution_count": null,
      "outputs": [
        {
          "output_type": "execute_result",
          "data": {
            "text/html": [
              "<div>\n",
              "<style scoped>\n",
              "    .dataframe tbody tr th:only-of-type {\n",
              "        vertical-align: middle;\n",
              "    }\n",
              "\n",
              "    .dataframe tbody tr th {\n",
              "        vertical-align: top;\n",
              "    }\n",
              "\n",
              "    .dataframe thead th {\n",
              "        text-align: right;\n",
              "    }\n",
              "</style>\n",
              "<table border=\"1\" class=\"dataframe\">\n",
              "  <thead>\n",
              "    <tr style=\"text-align: right;\">\n",
              "      <th></th>\n",
              "      <th>Datum</th>\n",
              "      <th>Erster</th>\n",
              "      <th>Hoch</th>\n",
              "      <th>Tief</th>\n",
              "      <th>Schlusskurs</th>\n",
              "      <th>Stuecke</th>\n",
              "      <th>Volumen</th>\n",
              "    </tr>\n",
              "  </thead>\n",
              "  <tbody>\n",
              "    <tr>\n",
              "      <th>0</th>\n",
              "      <td>2021-04-26</td>\n",
              "      <td>65,48</td>\n",
              "      <td>66,04</td>\n",
              "      <td>64,59</td>\n",
              "      <td>65,83</td>\n",
              "      <td>NaN</td>\n",
              "      <td>NaN</td>\n",
              "    </tr>\n",
              "    <tr>\n",
              "      <th>1</th>\n",
              "      <td>2021-04-23</td>\n",
              "      <td>65,83</td>\n",
              "      <td>66,30</td>\n",
              "      <td>65,14</td>\n",
              "      <td>65,93</td>\n",
              "      <td>NaN</td>\n",
              "      <td>NaN</td>\n",
              "    </tr>\n",
              "    <tr>\n",
              "      <th>2</th>\n",
              "      <td>2021-04-22</td>\n",
              "      <td>65,14</td>\n",
              "      <td>65,60</td>\n",
              "      <td>64,57</td>\n",
              "      <td>65,25</td>\n",
              "      <td>NaN</td>\n",
              "      <td>NaN</td>\n",
              "    </tr>\n",
              "    <tr>\n",
              "      <th>3</th>\n",
              "      <td>2021-04-21</td>\n",
              "      <td>66,39</td>\n",
              "      <td>66,52</td>\n",
              "      <td>64,93</td>\n",
              "      <td>65,36</td>\n",
              "      <td>NaN</td>\n",
              "      <td>NaN</td>\n",
              "    </tr>\n",
              "    <tr>\n",
              "      <th>4</th>\n",
              "      <td>2021-04-20</td>\n",
              "      <td>67,76</td>\n",
              "      <td>68,07</td>\n",
              "      <td>65,53</td>\n",
              "      <td>66,40</td>\n",
              "      <td>NaN</td>\n",
              "      <td>NaN</td>\n",
              "    </tr>\n",
              "    <tr>\n",
              "      <th>...</th>\n",
              "      <td>...</td>\n",
              "      <td>...</td>\n",
              "      <td>...</td>\n",
              "      <td>...</td>\n",
              "      <td>...</td>\n",
              "      <td>...</td>\n",
              "      <td>...</td>\n",
              "    </tr>\n",
              "    <tr>\n",
              "      <th>1757</th>\n",
              "      <td>2014-06-13</td>\n",
              "      <td>112,785</td>\n",
              "      <td>114,06</td>\n",
              "      <td>112,005</td>\n",
              "      <td>112,36</td>\n",
              "      <td>NaN</td>\n",
              "      <td>NaN</td>\n",
              "    </tr>\n",
              "    <tr>\n",
              "      <th>1758</th>\n",
              "      <td>2014-06-12</td>\n",
              "      <td>109,485</td>\n",
              "      <td>112,725</td>\n",
              "      <td>109,485</td>\n",
              "      <td>112,67</td>\n",
              "      <td>NaN</td>\n",
              "      <td>NaN</td>\n",
              "    </tr>\n",
              "    <tr>\n",
              "      <th>1759</th>\n",
              "      <td>2014-06-11</td>\n",
              "      <td>108,92</td>\n",
              "      <td>109,575</td>\n",
              "      <td>108,905</td>\n",
              "      <td>109,495</td>\n",
              "      <td>NaN</td>\n",
              "      <td>NaN</td>\n",
              "    </tr>\n",
              "    <tr>\n",
              "      <th>1760</th>\n",
              "      <td>2014-06-10</td>\n",
              "      <td>109,145</td>\n",
              "      <td>109,495</td>\n",
              "      <td>108,44</td>\n",
              "      <td>108,865</td>\n",
              "      <td>NaN</td>\n",
              "      <td>NaN</td>\n",
              "    </tr>\n",
              "    <tr>\n",
              "      <th>1761</th>\n",
              "      <td>2014-06-09</td>\n",
              "      <td>107,91</td>\n",
              "      <td>109,295</td>\n",
              "      <td>107,80</td>\n",
              "      <td>109,085</td>\n",
              "      <td>NaN</td>\n",
              "      <td>NaN</td>\n",
              "    </tr>\n",
              "  </tbody>\n",
              "</table>\n",
              "<p>1762 rows × 7 columns</p>\n",
              "</div>"
            ],
            "text/plain": [
              "           Datum   Erster     Hoch     Tief Schlusskurs  Stuecke  Volumen\n",
              "0     2021-04-26    65,48    66,04    64,59       65,83      NaN      NaN\n",
              "1     2021-04-23    65,83    66,30    65,14       65,93      NaN      NaN\n",
              "2     2021-04-22    65,14    65,60    64,57       65,25      NaN      NaN\n",
              "3     2021-04-21    66,39    66,52    64,93       65,36      NaN      NaN\n",
              "4     2021-04-20    67,76    68,07    65,53       66,40      NaN      NaN\n",
              "...          ...      ...      ...      ...         ...      ...      ...\n",
              "1757  2014-06-13  112,785   114,06  112,005      112,36      NaN      NaN\n",
              "1758  2014-06-12  109,485  112,725  109,485      112,67      NaN      NaN\n",
              "1759  2014-06-11   108,92  109,575  108,905     109,495      NaN      NaN\n",
              "1760  2014-06-10  109,145  109,495   108,44     108,865      NaN      NaN\n",
              "1761  2014-06-09   107,91  109,295   107,80     109,085      NaN      NaN\n",
              "\n",
              "[1762 rows x 7 columns]"
            ]
          },
          "metadata": {
            "tags": []
          },
          "execution_count": 11
        }
      ]
    },
    {
      "cell_type": "markdown",
      "metadata": {
        "id": "GqD6eeyo3MVp"
      },
      "source": [
        "#Product\n",
        "The analysis is based on the product oil. The product oil is divided into their subcategories and these are compared to each other.\n"
      ]
    },
    {
      "cell_type": "markdown",
      "metadata": {
        "id": "LExMh39-3ToP"
      },
      "source": [
        "#Place\n",
        "The effect of the factor place is analyzed based on advantages or disadvantages for the choosen gas station. These advantages or disadvantages are measured with the price or the customer inventory of the competitors."
      ]
    },
    {
      "cell_type": "markdown",
      "metadata": {
        "id": "kaAAM0vW3coU"
      },
      "source": [
        "#Promotion\n",
        "Due to missing data, an analysis of the effects of promotion will not be further analyzed."
      ]
    },
    {
      "cell_type": "markdown",
      "metadata": {
        "id": "jCkyqzQoGFIB"
      },
      "source": [
        "# Conclusion "
      ]
    }
  ]
}